{
 "cells": [
  {
   "cell_type": "markdown",
   "id": "a2028f3c",
   "metadata": {},
   "source": [
    "# [Tarea 03] Ejercicios Unidad 01-B\n",
    "#### Kevin Alexander Gómez Moreno\n",
    "#### 18 de mayo de 2025\n",
    "#### GitHub: https://github.com/Zoxior/-Tarea-03-Ejercicios-Unidad-01-B.git\n",
    "\n",
    "### CONJUNTO DE EJERCICIOS 1.3"
   ]
  },
  {
   "cell_type": "markdown",
   "id": "ac46cafb",
   "metadata": {},
   "source": [
    "#### 1. Utilice aritmética de corte de tres dígitos para calcular las siguientes sumas. Para cada parte, ¿qué método es más preciso y por qué?\n",
    "\n",
    "#### a.  $$\\sum_{i=1}^{10} \\frac{1}{i^2} \\text{ primero por } \\frac{1}{1} + \\frac{1}{4} +  \\cdots + \\frac{1}{100}  \\text{ y luego por} \\frac{1}{100} + \\frac{1}{81} + \\cdots +  \\frac{1}{1}$$\n"
   ]
  },
  {
   "cell_type": "markdown",
   "id": "a7904df6",
   "metadata": {},
   "source": [
    "### Cálculo con corte de 3 dígitos:\n",
    "### Método 1 (ascendente):\n",
    "#### $$1 + 0.25 + \\sum_{i=3}^{9} \\left( \\frac{1}{i^2} \\right) + 0.01 \\approx  1.26 + 0.289 \\sum_{i=3}^{9} \\left( \\frac{1}{i^2} \\right) \\approx 1.549 $$\n",
    "\n",
    "#### Método 2 (descendente):\n",
    "#### $$0.01 + 0.0123 + \\sum_{i=2}^{8} \\left( \\frac{1}{i^2} \\right) + 1 \\approx  0.01+0.012+0.527  \\sum_{i=2}^{8} \\left( \\frac{1}{i^2} \\right) +1 \\approx 1.549 $$"
   ]
  },
  {
   "cell_type": "markdown",
   "id": "cfdeaadf",
   "metadata": {},
   "source": [
    "#### b.  $$\\sum_{i=1}^{10} \\frac{1}{i^3} \\text{ primero por } \\frac{1}{1} + \\frac{1}{8} + \\frac{1}{27} +\\cdots + \\frac{1}{1000}  \\text{ y luego por} \\frac{1}{1000} + \\frac{1}{729} + \\cdots +  \\frac{1}{1}$$"
   ]
  },
  {
   "cell_type": "markdown",
   "id": "f8b41175",
   "metadata": {},
   "source": [
    "### Cálculo con corte de 3 dígitos:\n",
    "#### Método 1 (ascendente):\n",
    "#### 0.125+0.037+0.016+0.008+0.005+0.003+0.002+0.001+0.001≈0.198.$$ \\approx 1+0.198≈1.198 $$\n",
    "\n",
    "#### Método 2 (descendente):\n",
    "#### 0.001+0.001+0.002+0.003+0.005+0.008+0.016+0.037+0.125≈0.198.$$ \\approx 0.198+1≈1.198 $$"
   ]
  },
  {
   "cell_type": "markdown",
   "id": "24a6af82",
   "metadata": {},
   "source": [
    "#### 2. La serie de Maclaurin para la función arcotangente converge para $−1 < 𝑥 ≤ 1$ y está dada por:\n",
    "$$\n",
    "\\arctan x = \\lim_{n \\to \\infty} P_n(x) = \\lim_{n \\to \\infty} \\sum_{i=1}^{n} (-1)^{i+1} \\frac{x^{2i-1}}{2i-1}.\n",
    "$$\n",
    "\n",
    "**a)** Utilice el hecho de que $\\tan \\frac{\\pi}{4}=1$ para determinar el número $n$ de términos de la serie que se necesita sumar para garantizar que $\\left|4P_n(1)-\\pi \\right|<10^{-3}$."
   ]
  },
  {
   "cell_type": "code",
   "execution_count": null,
   "id": "d39fc87a",
   "metadata": {},
   "outputs": [
    {
     "name": "stdout",
     "output_type": "stream",
     "text": [
      "Número de términos necesarios: 1000\n"
     ]
    }
   ],
   "source": [
    "# Definir variables\n",
    "n = 1\n",
    "suma = 0\n",
    "x = 1\n",
    "pi = 3.14159265358979323846  # Valor de pi\n",
    "\n",
    "# Definir la precisión requerida\n",
    "precision = 1e-3\n",
    "\n",
    "\n",
    "while True:\n",
    "    # Calculamos la serie\n",
    "    for i in range(1, n+1):\n",
    "        termino = ((-1) ** (i + 1)) * (x ** (2 * i - 1)) / (2 * i - 1)\n",
    "        suma += termino\n",
    "\n",
    "    # Calculamos P_n\n",
    "    P_n = 4 * suma\n",
    "\n",
    "    # Calculamos la diferencia con pi\n",
    "    diferencia = abs(P_n - pi)\n",
    "\n",
    "    # Comparamos\n",
    "    if diferencia < precision:\n",
    "        break  # Salir del bucle si se cumple la precisión\n",
    "\n",
    "    # Incrementamos n y reiniciamos la suma para la siguiente iteración\n",
    "    n += 1\n",
    "    suma = 0\n",
    "\n",
    "# Resultado\n",
    "print(\"Número de términos necesarios:\", n)"
   ]
  },
  {
   "cell_type": "markdown",
   "id": "d94611ad",
   "metadata": {},
   "source": [
    "**b)** El lenguaje de programación C++ requiere que el valor de 𝜋 se encuentre dentro de $ 10^{-10}$. ¿Cuántos\n",
    "términos de la serie se necesitarían sumar para obtener este grado de precisión?"
   ]
  },
  {
   "cell_type": "code",
   "execution_count": null,
   "id": "e0373e3a",
   "metadata": {},
   "outputs": [
    {
     "name": "stdout",
     "output_type": "stream",
     "text": [
      "El número de iteraciones ha alcanzado el límite máximo sin converger.\n",
      "Número de términos requeridos: 10001\n"
     ]
    }
   ],
   "source": [
    "import math\n",
    "\n",
    "# Definir variables\n",
    "n = 1\n",
    "pi = math.pi\n",
    "precision = 10 ** (-10)\n",
    "x = 1\n",
    "max_iterations = 10000  # Límite de iteraciones\n",
    "\n",
    "# Calculamos la serie hasta cumplir la precisión requerida\n",
    "while True:\n",
    "    suma = 0  # Reiniciamos la suma a 0\n",
    "\n",
    "    for i in range(1, n + 1):\n",
    "        termino = ((-1) ** (i + 1) * x ** (2 * i - 1)) / (2 * i - 1)\n",
    "        suma += termino\n",
    "\n",
    "    # Calculamos P_n\n",
    "    P_n = 4 * suma\n",
    "\n",
    "    # Calculamos la diferencia con pi\n",
    "    diferencia = abs(P_n - pi)\n",
    "\n",
    "    # Comparamos\n",
    "    if diferencia < precision:\n",
    "        break\n",
    "\n",
    "    # Incrementar n en 1\n",
    "    n += 1\n",
    "\n",
    "    # Verificar si el número de iteraciones ha alcanzado el límite\n",
    "    if n > max_iterations:\n",
    "        print(\"El número de iteraciones ha alcanzado el límite máximo sin converger.\")\n",
    "        break\n",
    "\n",
    "# Resultado\n",
    "\n",
    "print(\"Número de términos requeridos:\", n)"
   ]
  },
  {
   "cell_type": "markdown",
   "id": "848712c2",
   "metadata": {},
   "source": [
    "#### 3. Otra forma para calcular $\\pi$ se puede deducir a partir de la identidad $\\pi/4=4$ $arctan$ $1/5$ - $arctan$ $1/239$. Determine el número de terminos que se deben sumar para garantizar una aproximación $\\pi$ dentro de $10^{-3}$"
   ]
  },
  {
   "cell_type": "code",
   "execution_count": null,
   "id": "e52b9080",
   "metadata": {},
   "outputs": [
    {
     "name": "stdout",
     "output_type": "stream",
     "text": [
      "Número de términos necesarios: 2\n",
      "Valor calculado de π: 3.141\n",
      "Error: 0.001\n"
     ]
    }
   ],
   "source": [
    "import math\n",
    "\n",
    "# Función para calcular arctan(x) usando una serie con un número dado de términos\n",
    "def arctan(x, terms):\n",
    "    arctan_x = 0\n",
    "    for n in range(terms):\n",
    "        term = ((-1) ** n) * (x ** (2 * n + 1)) / (2 * n + 1)\n",
    "        arctan_x += term\n",
    "    return arctan_x\n",
    "\n",
    "# Función para calcular pi usando la fórmula de Machin con un número dado de términos\n",
    "def calculate_pi(terms):\n",
    "    x1 = 1 / 5\n",
    "    x2 = 1 / 239\n",
    "    arctan1_5 = arctan(x1, terms)\n",
    "    arctan1_239 = arctan(x2, terms)\n",
    "    pi = 4 * (4 * arctan1_5 - arctan1_239)\n",
    "    return pi\n",
    "\n",
    "# Constantes y variables iniciales\n",
    "target_precision = 10 ** (-3)\n",
    "true_pi = math.pi\n",
    "terms = 1\n",
    "calculated_pi = calculate_pi(terms)\n",
    "\n",
    "# Bucle para aumentar el número de términos hasta alcanzar la precisión deseada\n",
    "while abs(calculated_pi - true_pi) > target_precision:\n",
    "    terms += 1\n",
    "    calculated_pi = calculate_pi(terms)\n",
    "\n",
    "# Resultados\n",
    "print(\"Número de términos necesarios:\", terms)\n",
    "print(\"Valor calculado de π:\", round(calculated_pi, 3))\n",
    "print(\"Error:\", round(abs(calculated_pi - true_pi), 3))"
   ]
  },
  {
   "cell_type": "markdown",
   "id": "ba05070c",
   "metadata": {},
   "source": [
    "#### 4. Comparación de tres algoritmos. ¿Cuándo es correcto el algoritmo de la parte 1a?\n",
    "\n",
    "#### **Algoritmo (a):**\n",
    "**ENTRADA:** $𝑛, 𝑥₁, 𝑥₂, ⋯ , 𝑥ₙ$  \n",
    "**SALIDA:** PRODUCT.  \n",
    "\n",
    " **Paso 1:** Determine `PRODUCT = 0`.  \n",
    " **Paso 2:** Para $ i = 1, 2, \\cdots, n $ haga:  \n",
    "      Determine `PRODUCT` = `PRODUCT` * $x_i$.  \n",
    " **Paso 3:** SALIDA `PRODUCT`;  \n",
    "   PARE.  \n",
    "\n",
    "**Problema:**  \n",
    "- El resultado siempre será `0` porque se inicializa en `0` y cualquier multiplicación posterior por $x_i$ mantendrá `PRODUCT = 0`.  \n",
    "- **Incorrecto** para calcular el producto de una lista.  \n",
    "\n",
    "---\n",
    "\n",
    "#### **Algoritmo (b):**\n",
    "**ENTRADA** $ n, x_1, x_2, \\cdots, x_n $.  \n",
    "**SALIDA** PRODUCT.  \n",
    "\n",
    "**Paso 1** Determine `PRODUCT = 1`.  \n",
    "**Paso 2** Para $ i = 1, 2, \\cdots, n $ haga:  \n",
    "    Set `PRODUCT = PRODUCT `* $x_i$.  \n",
    "**Paso 3** SALIDA `PRODUCT`;  \n",
    "   PARE.  \n",
    "\n",
    "**Ventajas**  \n",
    "- Correctamente inicializado en `1`.  \n",
    "- Calcula el producto exacto de todos los $x_i$.  \n",
    "- **Correcto** para cualquier lista de números.  \n",
    "\n",
    "---\n",
    "\n",
    "#### **Algoritmo (c):**\n",
    "**ENTRADA** $ n, x_1, x_2, \\cdots, x_n $.  \n",
    "**SALIDA** PRODUCT.  \n",
    "\n",
    "1. **Paso 1** Determine `PRODUCT = 1`.  \n",
    "2. **Paso 2** Para $ i = 1, 2, \\cdots, n $ haga:  \n",
    "    Si $ x_i = 0 $  entonces determine `PRODUCT = 0`.  \n",
    "      SALIDA `PRODUCT`;  \n",
    "      PARE    \n",
    "\n",
    "    Determine `PRODUCT = PRODUCT` * $ x_i $.  \n",
    "3. **Paso 3** SALIDA `PRODUCT`;  \n",
    "   PARE.  \n",
    "\n",
    "**Ventajas**  \n",
    "- Eficiente: Si algún $ x_i = 0 $, termina inmediatamente (el producto total es `0`).  \n",
    "- **Correcto** y optimizado para listas que puedan contener ceros.  \n",
    "\n",
    "---\n",
    "\n",
    "### Conclusión:\n",
    "- **Algoritmo (a):** Incorrecto (inicialización errónea).  \n",
    "- **Algoritmo (b):** Correcto pero no optimizado para ceros.  \n",
    "- **Algoritmo (c):** Correcto y optimizado.  "
   ]
  },
  {
   "cell_type": "markdown",
   "id": "8bb82daf",
   "metadata": {},
   "source": [
    "#### 5. a. ¿Cuántas multiplicaciones y sumas se requieren para determinar una suma de la forma $\\sum_{i=1}^{n}\\sum_{j=1}^{i} a_i b_j?$\n",
    "\n"
   ]
  },
  {
   "cell_type": "code",
   "execution_count": null,
   "id": "ffc6bc63",
   "metadata": {},
   "outputs": [
    {
     "name": "stdout",
     "output_type": "stream",
     "text": [
      "Para n = 5:\n",
      "Multiplicaciones: 15\n",
      "Sumas: 14\n"
     ]
    }
   ],
   "source": [
    "def contar_operaciones(n):\n",
    "    multiplicaciones = 0\n",
    "    sumas = 0\n",
    "    total = 0  # opcional, solo para simular la suma\n",
    "\n",
    "    for i in range(1, n + 1):\n",
    "        for j in range(1, i + 1):\n",
    "            multiplicaciones += 1\n",
    "            termino = 1 * 1  # a_i * b_j, pero no importa el valor\n",
    "            if multiplicaciones > 1:  # la primera vez no es una suma\n",
    "                sumas += 1\n",
    "            total += termino  # no afecta la cuenta\n",
    "\n",
    "    return multiplicaciones, sumas\n",
    "\n",
    "# Ejemplo de uso\n",
    "n = 5\n",
    "muls, sums = contar_operaciones(n)\n",
    "print(f\"Para n = {n}:\")\n",
    "print(f\"Multiplicaciones: {muls}\")\n",
    "print(f\"Sumas: {sums}\")\n"
   ]
  },
  {
   "cell_type": "markdown",
   "id": "d565ba17",
   "metadata": {},
   "source": [
    "#### b. Modifique la suma en la parte a) a un formato equivalente que reduzca el número de cálculos."
   ]
  },
  {
   "cell_type": "code",
   "execution_count": null,
   "id": "2b5046a7",
   "metadata": {},
   "outputs": [
    {
     "name": "stdout",
     "output_type": "stream",
     "text": [
      "Versión optimizada para n = 5:\n",
      "Multiplicaciones: 5\n",
      "Sumas: 8\n"
     ]
    }
   ],
   "source": [
    "def contar_operaciones_optimizada(n):\n",
    "    multiplicaciones = 0\n",
    "    sumas = 0\n",
    "\n",
    "    # Simular arreglos a y b (los valores no importan)\n",
    "    a = [1] * n\n",
    "    b = [1] * n\n",
    "\n",
    "    # Calcular suma acumulada desde el final\n",
    "    suma_parcial = [0] * n\n",
    "    suma_parcial[-1] = a[-1]\n",
    "    for i in range(n - 2, -1, -1):\n",
    "        suma_parcial[i] = suma_parcial[i + 1] + a[i]\n",
    "        sumas += 1  # una suma por iteración\n",
    "\n",
    "    # Calcular la suma final\n",
    "    total = 0\n",
    "    for j in range(n):\n",
    "        total += b[j] * suma_parcial[j]\n",
    "        multiplicaciones += 1\n",
    "        if j > 0:\n",
    "            sumas += 1  # sumas en la acumulación final\n",
    "\n",
    "    return multiplicaciones, sumas\n",
    "\n",
    "# Ejemplo de uso\n",
    "n = 5\n",
    "muls, sums = contar_operaciones_optimizada(n)\n",
    "print(f\"Versión optimizada para n = {n}:\")\n",
    "print(f\"Multiplicaciones: {muls}\")\n",
    "print(f\"Sumas: {sums}\")\n",
    "\n"
   ]
  },
  {
   "cell_type": "markdown",
   "id": "d362191f",
   "metadata": {},
   "source": [
    "## DISCUSIONES\n",
    "#### 1. Escriba un algoritmo para sumar la serie finita $\\sum_{i=1}^{n} x_i$ en orden inverso."
   ]
  },
  {
   "cell_type": "code",
   "execution_count": null,
   "id": "7f63903d",
   "metadata": {},
   "outputs": [
    {
     "name": "stdout",
     "output_type": "stream",
     "text": [
      "La suma en orden inverso es: 22\n"
     ]
    }
   ],
   "source": [
    "def sumar_en_orden_inverso(x):\n",
    "    suma = 0\n",
    "    for i in range(len(x) - 1, -1, -1):  # desde el último índice hasta el primero\n",
    "        suma += x[i]\n",
    "    return suma\n",
    "\n",
    "# Ejemplo de uso:\n",
    "x = [1, 3, 4, 5, 9]\n",
    "resultado = sumar_en_orden_inverso(x)\n",
    "print(\"La suma en orden inverso es:\", resultado)"
   ]
  },
  {
   "cell_type": "markdown",
   "id": "ca3181dd",
   "metadata": {},
   "source": [
    "#### 2. Las ecuaciones $(1.2)$ y $(1.3)$ en la sección 1.2 proporcionan formas alternativas para las raíces $x_1$ y $x_2$ de $ax^2 + bx + c = 0$. Construya un algoritmo con entrada `a, b, c` y salida $x_1$, $x_2$ que calcule las raíces $x_1$ y $x_2$.(que pueden ser iguales con conjugados complejos) mediante la mejor fórmula para cada raíz."
   ]
  },
  {
   "cell_type": "code",
   "execution_count": null,
   "id": "7dda0bc9",
   "metadata": {},
   "outputs": [
    {
     "name": "stdout",
     "output_type": "stream",
     "text": [
      "x1 = (100000000+0j)\n",
      "x2 = (1e-08+0j)\n"
     ]
    }
   ],
   "source": [
    "import cmath\n",
    "\n",
    "def resolver_cuadratica(a, b, c):\n",
    "    if a == 0:\n",
    "        raise ValueError(\"a no puede ser cero en una ecuación cuadrática.\")\n",
    "\n",
    "    discriminante = cmath.sqrt(b**2 - 4*a*c)\n",
    "    signo_b = 1 if b >= 0 else -1\n",
    "    x1 = (-b - signo_b * discriminante) / (2 * a)\n",
    "    x2 = (2 * c) / (-b - signo_b * discriminante)\n",
    "    \n",
    "    return x1, x2\n",
    "\n",
    "# Ejemplo de uso:\n",
    "a, b, c = 1, -1e8, 1\n",
    "x1, x2 = resolver_cuadratica(a, b, c)\n",
    "print(f\"x1 = {x1}\")\n",
    "print(f\"x2 = {x2}\")\n"
   ]
  },
  {
   "cell_type": "markdown",
   "id": "4fc69e0f",
   "metadata": {},
   "source": [
    "#### 3. Suponga que\n",
    "$$\n",
    "\\frac{1-2x}{1-x+x^2} + \\frac{2x-4x^3}{1-x^2+x^4} + \\frac{4x^3-8x^7}{1-x^4+x^8} + \\cdots = \\frac{1+2x}{1+x+x^2}\n",
    "$$\n",
    "\n",
    "Para $ x < 1 $ con $ x = 0.25 $. Escriba y ejecute un algoritmo que determine el número de términos necesarios en\n",
    "el lado izquierdo de la ecuación de tal forma que el lado izquierdo difiera del lado derecho en menos de ${x^{-6}}$."
   ]
  },
  {
   "cell_type": "code",
   "execution_count": null,
   "id": "261c3209",
   "metadata": {},
   "outputs": [
    {
     "name": "stdout",
     "output_type": "stream",
     "text": [
      "Número de términos necesarios: 1\n",
      "Diferencia: 0.5274725274725274\n"
     ]
    }
   ],
   "source": [
    "x = 0.25\n",
    "tolerance = x**(-6)\n",
    "rhs = (1 + 2*x) / (1 + x + x**2)  # Lado derecho de la ecuación\n",
    "\n",
    "lhs = 0  # Acumulador para el lado izquierdo\n",
    "n = 0    # Contador de términos\n",
    "\n",
    "while True:\n",
    "    numerator = 2**n * x**(2**n - 1) - 2**(n + 1) * x**(2**(n + 1) - 1)\n",
    "    denominator = 1 - x**(2**n) + x**(2**(n + 1))\n",
    "    term = numerator / denominator\n",
    "    lhs += term\n",
    "    n += 1\n",
    "    if abs(lhs - rhs) < tolerance:\n",
    "        break\n",
    "\n",
    "print(f\"Número de términos necesarios: {n}\")\n",
    "print(f\"Diferencia: {abs(lhs - rhs)}\")\n"
   ]
  }
 ],
 "metadata": {
  "kernelspec": {
   "display_name": "Python 3",
   "language": "python",
   "name": "python3"
  },
  "language_info": {
   "codemirror_mode": {
    "name": "ipython",
    "version": 3
   },
   "file_extension": ".py",
   "mimetype": "text/x-python",
   "name": "python",
   "nbconvert_exporter": "python",
   "pygments_lexer": "ipython3",
   "version": "3.13.1"
  }
 },
 "nbformat": 4,
 "nbformat_minor": 5
}
